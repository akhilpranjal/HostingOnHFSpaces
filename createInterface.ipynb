{
 "cells": [
  {
   "cell_type": "markdown",
   "id": "d790330b",
   "metadata": {},
   "source": [
    "Importing requirements\n"
   ]
  },
  {
   "cell_type": "code",
   "execution_count": null,
   "id": "cc55d063",
   "metadata": {},
   "outputs": [],
   "source": [
    "# !pip install gradio,fastai\n",
    "import gradio as gr\n",
    "from fastai.vision.all import *"
   ]
  },
  {
   "cell_type": "markdown",
   "id": "90737bb7",
   "metadata": {},
   "source": [
    "Function for showing the predicted result via Gradio "
   ]
  },
  {
   "cell_type": "code",
   "execution_count": null,
   "id": "9d1ca1c5",
   "metadata": {},
   "outputs": [],
   "source": [
    "import pathlib\n",
    "import re\n",
    "\n",
    "# Fix for PosixPath issue on Windows\n",
    "pathlib.PosixPath = pathlib.WindowsPath\n",
    "# Downgrade fastai to <2.8.0 to load the model (as the model was trained using some now-deprecated methods)\n",
    "def label_func(fname): \n",
    "    return re.match(r'(.+)_\\d+.jpg$', fname.name).groups()[0]\n",
    "learn = load_learner('model(finetuned resnet50).pkl')"
   ]
  },
  {
   "cell_type": "code",
   "execution_count": null,
   "id": "388edf0d",
   "metadata": {},
   "outputs": [],
   "source": [
    "labels = learn.dls.vocab\n",
    "def predict(img):\n",
    "    img = PILImage.create(img)\n",
    "    pred,pred_idx,probs = learn.predict(img)\n",
    "    return {labels[i]: float(probs[i]) for i in range(len(labels))}"
   ]
  },
  {
   "cell_type": "markdown",
   "id": "46fe2954",
   "metadata": {},
   "source": [
    "Creating Interface"
   ]
  },
  {
   "cell_type": "code",
   "execution_count": null,
   "id": "a0bd05cf",
   "metadata": {},
   "outputs": [],
   "source": [
    "title = \"Pet Breed Classifier\"\n",
    "description = \"A pet breed classifier trained on the Oxford Pets dataset with fastai. Created as a demo for Gradio and HuggingFace Spaces.\"\n",
    "article=\"<p style='text-align: center'><a href='https://github.com/akhilpranjal/HostingOnHFSpaces' target='_blank'>Github</a></p>\"\n",
    "examples = ['exampleImages/chihuahua.jpeg','exampleImages/pomeranian.jpg','exampleImages/british-shorthair.webp','exampleImages/bengal.png']\n",
    "\n",
    "gr.Interface(\n",
    "\tfn=predict,\n",
    "\tinputs=gr.Image(scale=512),\n",
    "\toutputs=gr.Label(num_top_classes=7),\n",
    "\ttitle=title,\n",
    "\tdescription=description,\n",
    "\tarticle=article,\n",
    "\texamples=examples,\n",
    ").launch(share=True)"
   ]
  }
 ],
 "metadata": {
  "kernelspec": {
   "display_name": ".venv",
   "language": "python",
   "name": "python3"
  },
  "language_info": {
   "codemirror_mode": {
    "name": "ipython",
    "version": 3
   },
   "file_extension": ".py",
   "mimetype": "text/x-python",
   "name": "python",
   "nbconvert_exporter": "python",
   "pygments_lexer": "ipython3",
   "version": "3.13.3"
  }
 },
 "nbformat": 4,
 "nbformat_minor": 5
}
